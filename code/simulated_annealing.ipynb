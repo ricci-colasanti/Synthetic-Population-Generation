{
 "cells": [
  {
   "cell_type": "code",
   "execution_count": 14,
   "id": "b25074f0",
   "metadata": {},
   "outputs": [],
   "source": [
    "import csv\n",
    "import numpy as np"
   ]
  },
  {
   "cell_type": "code",
   "execution_count": 29,
   "id": "5a9c0ffc",
   "metadata": {},
   "outputs": [],
   "source": [
    "def read_microdata(filename):\n",
    "    # Open the file in read mode\n",
    "    with open(filename, mode='r', newline='') as file:\n",
    "        reader = csv.reader(file)\n",
    "        first_line = next(reader)\n",
    "        headers = first_line[1:]\n",
    "        data_array = np.empty((0, len(headers)), dtype=float)\n",
    "        micro_data_ids =[]\n",
    "        # Iterate through each row in the CSV file\n",
    "        for row in reader:\n",
    "            # Process each row\n",
    "            micro_data_ids.append(row[0])\n",
    "            data_array = np.append(data_array, [np.array(row[1:], dtype=float)], axis=0)\n",
    "    return {\n",
    "        'headers':headers,\n",
    "        'micro_data_ids':micro_data_ids,\n",
    "        'data_array':data_array\n",
    "    }"
   ]
  },
  {
   "cell_type": "code",
   "execution_count": 30,
   "id": "c0a3023d",
   "metadata": {},
   "outputs": [],
   "source": [
    "def read_constraints(filename):\n",
    "    # Open the file in read mode\n",
    "    with open(filename, mode='r', newline='') as file:\n",
    "        reader = csv.reader(file)\n",
    "        first_line = next(reader)\n",
    "        headers = first_line[2:]\n",
    "        data_array = np.empty((0, len(headers)), dtype=float)\n",
    "        geo_data_ids =[]\n",
    "        population_totals=[]\n",
    "        # Iterate through each row in the CSV file\n",
    "        for row in reader:\n",
    "            # Process each row\n",
    "            geo_data_ids.append(row[0])\n",
    "            population_totals.append(row[1])\n",
    "            data_array = np.append(data_array, [np.array(row[2:], dtype=float)], axis=0)\n",
    "    return {\n",
    "        'headers':headers,\n",
    "        'geo_data_ids':geo_data_ids,\n",
    "        'population_totals':population_totals,\n",
    "        'data_array':data_array\n",
    "    }"
   ]
  },
  {
   "cell_type": "code",
   "execution_count": 31,
   "id": "5f0f8f84",
   "metadata": {},
   "outputs": [],
   "source": [
    "micro_data = read_microdata('testdata/microdata_encoded.csv')\n",
    "constraint_data = read_constraints('testdata/constraint_targets.csv')"
   ]
  },
  {
   "cell_type": "code",
   "execution_count": 32,
   "id": "11ad483c",
   "metadata": {},
   "outputs": [
    {
     "data": {
      "text/plain": [
       "True"
      ]
     },
     "execution_count": 32,
     "metadata": {},
     "output_type": "execute_result"
    }
   ],
   "source": [
    "micro_data['headers'] == constraint_data['headers']"
   ]
  },
  {
   "cell_type": "code",
   "execution_count": null,
   "id": "b7463213",
   "metadata": {},
   "outputs": [],
   "source": [
    "class SimulatedAnnealing:\n",
    "    def __init__(self, as_attributes, pop_attributes):\n",
    "        self.pos = pop_attributes['pos']\n",
    "        self.geo_id = pop_attributes['geo_id']\n",
    "        self.population_size = pop_attributes['population_size']\n",
    "        self.constraints = pop_attributes['constraints']\n",
    "        self.micro_data = pop_attributes['micro_data']\n",
    "        rows, cols = self.micro_data.shape\n",
    "        self.micro_rows = rows\n",
    "        self.micro_cols = cols\n",
    "\n",
    "\n",
    "                # SA parameters (you may want to make these configurable)\n",
    "        self.initial_temp = as_attributes['initial_temp']\n",
    "        self.cooling_rate = as_attributes['cooling_rate']\n",
    "        self.current_temp = self.initial_temp\n",
    "        self.min_temp = as_attributes['min_temp']\n",
    "        self.steps_per_temp = as_attributes['steps_per_temp']\n",
    "\n",
    "        self.fraction = 1 / self.population_size\n",
    "        print(self.fraction)\n",
    "\n",
    "        # Create initial population\n",
    "        self.population = [np.random.randint(self.micro_rows) for _ in range(int(self.population_size))]\n",
    "        self.macro_data = np.zeros(self.micro_cols)\n",
    "\n",
    "        for p in self.population:\n",
    "            self.macro_data = self.macro_data + (self.micro_data[p] * self.fraction)\n",
    "\n",
    "    def chi_squared_distance(self,):\n",
    "        epsilon = 1e-10  # Avoid division by zero\n",
    "        return np.sum((self.constraints - self.macro_data) ** 2 / (self.constraints + epsilon))\n",
    "\n",
    "    def kl_divergence(self):\n",
    "        epsilon = 1e-10  # Avoid log(0)\n",
    "        return np.sum(self.constraints * np.log((self.constraints + epsilon) / (self.macro_data + epsilon)))\n",
    "\n",
    "    def run(self):\n",
    "        \"\"\"Execute the simulated annealing algorithm\"\"\"\n",
    "        current_energy = self.energy()\n",
    "        best_energy = current_energy\n",
    "        best_solution = self.population.copy()\n",
    "        \n",
    "        while self.current_temp > self.min_temp:\n",
    "            for _ in range(self.steps_per_temp):\n",
    "                # Generate neighbor\n",
    "                neighbor = self.generate_neighbor()\n",
    "                old_population = self.population\n",
    "                self.population = neighbor\n",
    "                self.macro_data = self.calculate_macro_data()\n",
    "                \n",
    "                # Calculate new energy\n",
    "                new_energy = self.energy()\n",
    "                \n",
    "                # Decide whether to accept neighbor\n",
    "                if self.acceptance_probability(current_energy, new_energy) > random.random():\n",
    "                    current_energy = new_energy\n",
    "                    if current_energy < best_energy:\n",
    "                        best_energy = current_energy\n",
    "                        best_solution = self.population.copy()\n",
    "                else:\n",
    "                    self.population = old_population\n",
    "                    self.macro_data = self.calculate_macro_data()\n",
    "            \n",
    "            # Cool system\n",
    "            self.current_temp *= 1 - self.cooling_rate\n",
    "        \n",
    "        # Return best solution found\n",
    "        self.population = best_solution\n",
    "        self.macro_data = self.calculate_macro_data()\n",
    "        return {\n",
    "            'population': best_solution,\n",
    "            'macro_data': self.macro_data,\n",
    "            'energy': best_energy\n",
    "        }"
   ]
  },
  {
   "cell_type": "code",
   "execution_count": null,
   "id": "ba956d59",
   "metadata": {},
   "outputs": [
    {
     "name": "stdout",
     "output_type": "stream",
     "text": [
      "8.814455707360071e-05\n"
     ]
    }
   ],
   "source": [
    "\n",
    "pop_attributes = {\n",
    "        'pos':0,\n",
    "        'geo_id': constraint_data['geo_data_ids'][0],\n",
    "        'population_size':float(constraint_data['population_totals'][0]),\n",
    "        'constraints':constraint_data['data_array'],\n",
    "        'micro_data':micro_data['data_array']\n",
    "}\n",
    "sa_atteributes = {\n",
    "        'initial_temp':1000,\n",
    "        'cooling_rate':0.003,\n",
    "        'min_temp':1,\n",
    "        'steps_per_temp':100\n",
    "}\n",
    "\n",
    "test = SimulatedAnnealing(pop_attributes,sa_atteributes)"
   ]
  },
  {
   "cell_type": "code",
   "execution_count": 118,
   "id": "52e5acdf",
   "metadata": {},
   "outputs": [
    {
     "data": {
      "text/plain": [
       "np.float64(7.893688397038704)"
      ]
     },
     "execution_count": 118,
     "metadata": {},
     "output_type": "execute_result"
    }
   ],
   "source": [
    "test.chi_squared_distance()"
   ]
  },
  {
   "cell_type": "code",
   "execution_count": null,
   "id": "f321a36a",
   "metadata": {},
   "outputs": [],
   "source": [
    "import numpy as np\n",
    "import math\n",
    "import random\n",
    "\n",
    "class SimulatedAnnealing:\n",
    "    def __init__(self, attributes):\n",
    "        # Initialize parameters\n",
    "        self.pos = attributes['pos']\n",
    "        self.geo_id = attributes['geo_id']\n",
    "        self.population_size = attributes['population_size']\n",
    "        self.constraints = attributes['constraints']\n",
    "        self.micro_data = attributes['micro_data']\n",
    "        \n",
    "        # Debugging info\n",
    "        print(\"Type of micro_data:\", type(self.micro_data))\n",
    "        print(\"Shape of micro_data:\", self.micro_data.shape)\n",
    "\n",
    "        # Problem dimensions\n",
    "        rows, cols = self.micro_data.shape\n",
    "        self.micro_rows = rows\n",
    "        self.micro_cols = cols\n",
    "        self.fraction = 1 / self.population_size\n",
    "\n",
    "        # Create initial population and macro data\n",
    "        self.population = self.initialize_population()\n",
    "        self.macro_data = self.calculate_macro_data()\n",
    "        \n",
    "        # SA parameters (you may want to make these configurable)\n",
    "        self.initial_temp = 1000\n",
    "        self.cooling_rate = 0.003\n",
    "        self.current_temp = self.initial_temp\n",
    "        self.min_temp = 1\n",
    "        self.steps_per_temp = 100\n",
    "\n",
    "    def initialize_population(self):\n",
    "        \"\"\"Create random initial population\"\"\"\n",
    "        return [np.random.randint(self.micro_rows) for _ in range(int(self.population_size))]\n",
    "\n",
    "    def calculate_macro_data(self):\n",
    "        \"\"\"Calculate macro data from current population\"\"\"\n",
    "        macro = np.zeros(self.micro_cols)\n",
    "        for p in self.population:\n",
    "            macro += (self.micro_data[p] * self.fraction)\n",
    "        return macro\n",
    "\n",
    "    def chi_squared_distance(self):\n",
    "        \"\"\"Calculate chi-squared distance between constraints and macro data\"\"\"\n",
    "        epsilon = 1e-10  # Avoid division by zero\n",
    "        return np.sum((self.constraints - self.macro_data) ** 2 / (self.constraints + epsilon))\n",
    "\n",
    "    def kl_divergence(self):\n",
    "        \"\"\"Calculate KL divergence between constraints and macro data\"\"\"\n",
    "        epsilon = 1e-10  # Avoid log(0)\n",
    "        return np.sum(self.constraints * np.log((self.constraints + epsilon) / (self.macro_data + epsilon)))\n",
    "\n",
    "    def energy(self):\n",
    "        \"\"\"Objective function to minimize (using KL divergence here)\"\"\"\n",
    "        return self.kl_divergence()\n",
    "\n",
    "    def generate_neighbor(self):\n",
    "        \"\"\"Generate a neighboring solution by perturbing one individual\"\"\"\n",
    "        new_population = self.population.copy()\n",
    "        idx_to_change = random.randint(0, len(new_population)-1)\n",
    "        new_population[idx_to_change] = random.randint(0, self.micro_rows-1)\n",
    "        return new_population\n",
    "\n",
    "    def acceptance_probability(self, current_energy, new_energy):\n",
    "        \"\"\"Calculate acceptance probability\"\"\"\n",
    "        if new_energy < current_energy:\n",
    "            return 1.0\n",
    "        return math.exp((current_energy - new_energy) / self.current_temp)\n",
    "\n"
   ]
  }
 ],
 "metadata": {
  "kernelspec": {
   "display_name": ".venv",
   "language": "python",
   "name": "python3"
  },
  "language_info": {
   "codemirror_mode": {
    "name": "ipython",
    "version": 3
   },
   "file_extension": ".py",
   "mimetype": "text/x-python",
   "name": "python",
   "nbconvert_exporter": "python",
   "pygments_lexer": "ipython3",
   "version": "3.10.12"
  }
 },
 "nbformat": 4,
 "nbformat_minor": 5
}
